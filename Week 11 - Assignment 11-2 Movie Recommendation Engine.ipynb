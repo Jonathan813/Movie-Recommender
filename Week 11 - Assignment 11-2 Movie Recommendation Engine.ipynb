{
 "cells": [
  {
   "cell_type": "markdown",
   "metadata": {},
   "source": [
    "<b>Name: Jonathan Lawrence<br/>\n",
    "Date: 11/8/19<br/>\n",
    "Assignment: Exercise 11.2 - Movie Recommendation Engine"
   ]
  },
  {
   "cell_type": "markdown",
   "metadata": {},
   "source": [
    "<b>Instruction</b>: In this exercise, you will create a movie recommendation engine from the MovieLens data. "
   ]
  },
  {
   "cell_type": "markdown",
   "metadata": {},
   "source": [
    "<b>Set up Spark</b>"
   ]
  },
  {
   "cell_type": "code",
   "execution_count": 1,
   "metadata": {},
   "outputs": [],
   "source": [
    "# import packages\n",
    "from pyspark.context import SparkContext\n",
    "from pyspark.sql.session import SparkSession\n",
    "from pyspark.sql.types import*\n",
    "from pyspark import SparkConf\n",
    "import os\n",
    "import shutil\n",
    "import time\n",
    "\n",
    "# Spark configured with 16GB RAM\n",
    "spark = SparkSession \\\n",
    "    .builder \\\n",
    "    .appName(\"MovieEngine\") \\\n",
    "    .config(\"spark.executor.memory\", \"8g\") \\\n",
    "    .config(\"spark.driver.memory\", \"8g\") \\\n",
    "    .getOrCreate()"
   ]
  },
  {
   "cell_type": "markdown",
   "metadata": {},
   "source": [
    "<b>Prepare Data</b>"
   ]
  },
  {
   "cell_type": "code",
   "execution_count": 2,
   "metadata": {},
   "outputs": [
    {
     "name": "stdout",
     "output_type": "stream",
     "text": [
      "Ratings:\n",
      "root\n",
      " |-- userId: integer (nullable = true)\n",
      " |-- movieId: integer (nullable = true)\n",
      " |-- rating: double (nullable = true)\n",
      " |-- timestamp: integer (nullable = true)\n",
      "\n",
      "None\n",
      "Movies:\n",
      "root\n",
      " |-- movieId: integer (nullable = true)\n",
      " |-- title: string (nullable = true)\n",
      " |-- genres: string (nullable = true)\n",
      "\n",
      "None\n"
     ]
    }
   ],
   "source": [
    "ratings_path = \"C:\\\\Users\\\\Jonathan\\\\Desktop\\\\Master's Stuff\\\\Master's Program\\\\DSC650-T301 Big Data\\\\Week 11\\\\movielens\\\\ratings.csv\"\n",
    "movies_path = \"C:\\\\Users\\\\Jonathan\\\\Desktop\\\\Master's Stuff\\\\Master's Program\\\\DSC650-T301 Big Data\\\\Week 11\\\\movielens\\\\movies.csv\"\n",
    "\n",
    "# load Ratings\n",
    "df_ratings = spark.read.load(\n",
    "  ratings_path,\n",
    "  format=\"csv\",\n",
    "  sep=\",\",\n",
    "  inferSchema=True,\n",
    "  header=True\n",
    ")\n",
    "\n",
    "# Load Movies\n",
    "df_movies = spark.read.load(\n",
    "  movies_path,\n",
    "  format=\"csv\",\n",
    "  sep=\",\",\n",
    "  inferSchema=True,\n",
    "  header=True\n",
    ")\n",
    "\n",
    "print(\"Ratings:\")\n",
    "print(df_ratings.printSchema())\n",
    "print(\"Movies:\")\n",
    "print(df_movies.printSchema())"
   ]
  },
  {
   "cell_type": "markdown",
   "metadata": {},
   "source": [
    "<b>Join the data</b>"
   ]
  },
  {
   "cell_type": "code",
   "execution_count": 3,
   "metadata": {},
   "outputs": [
    {
     "name": "stdout",
     "output_type": "stream",
     "text": [
      "root\n",
      " |-- userId: integer (nullable = true)\n",
      " |-- movieId: integer (nullable = true)\n",
      " |-- rating: double (nullable = true)\n",
      " |-- timestamp: integer (nullable = true)\n",
      " |-- title: string (nullable = true)\n",
      " |-- genres: string (nullable = true)\n",
      "\n",
      "None\n"
     ]
    }
   ],
   "source": [
    "# Change column name for 'Movies.movieId'\n",
    "df_movies = (df_movies\n",
    "   .withColumnRenamed('movieId','movieId_dup'))\n",
    "\n",
    "# Join data\n",
    "joinExpression = df_ratings.movieId == df_movies.movieId_dup\n",
    "joinType = \"left_outer\"\n",
    "joinedData = df_ratings.join(\n",
    "    df_movies, joinExpression, joinType)\n",
    "\n",
    "# Drop movieId_dup\n",
    "joinedData = joinedData.drop(\"movieId_dup\")\n",
    "\n",
    "# Print the schema of the joined \n",
    "print(joinedData.printSchema())"
   ]
  },
  {
   "cell_type": "markdown",
   "metadata": {},
   "source": [
    "<b>Create training and test data</b>"
   ]
  },
  {
   "cell_type": "code",
   "execution_count": 4,
   "metadata": {},
   "outputs": [],
   "source": [
    "(training, test) = joinedData.randomSplit([0.8, 0.2])"
   ]
  },
  {
   "cell_type": "markdown",
   "metadata": {},
   "source": [
    "<b>Collaborative Filtering (Root-mean-square error)</b>"
   ]
  },
  {
   "cell_type": "code",
   "execution_count": 6,
   "metadata": {},
   "outputs": [
    {
     "name": "stdout",
     "output_type": "stream",
     "text": [
      "Root-mean-square error = 1.0786617637784752\n"
     ]
    }
   ],
   "source": [
    "from pyspark.ml.evaluation import RegressionEvaluator\n",
    "from pyspark.ml.recommendation import ALS\n",
    "from pyspark.sql import Row\n",
    "\n",
    "# Build the recommendation model using ALS on the training data\n",
    "# Note we set cold start strategy to 'drop' to ensure we don't get NaN evaluation metrics\n",
    "als = ALS(maxIter=5, regParam=0.01, userCol=\"userId\", itemCol=\"movieId\", ratingCol=\"rating\",\n",
    "          coldStartStrategy=\"drop\")\n",
    "model = als.fit(training)\n",
    "\n",
    "# Evaluate the model by computing the RMSE on the test data\n",
    "predictions = model.transform(test)\n",
    "evaluator = RegressionEvaluator(metricName=\"rmse\", labelCol=\"rating\",\n",
    "                                predictionCol=\"prediction\")\n",
    "rmse = evaluator.evaluate(predictions)\n",
    "print(\"Root-mean-square error = \" + str(rmse))"
   ]
  },
  {
   "cell_type": "markdown",
   "metadata": {},
   "source": [
    "<b>Collaborative Filtering (Recommendations for Specific Users)</b>"
   ]
  },
  {
   "cell_type": "code",
   "execution_count": 31,
   "metadata": {},
   "outputs": [],
   "source": [
    "# Generate top 10 movie recommendations for each user\n",
    "userRecs = model.recommendForAllUsers(10)\n",
    "# Generate top 10 user recommendations for each movie\n",
    "movieRecs = model.recommendForAllItems(10)\n",
    "\n",
    "# Generate top 10 movie recommendations for a specified set of users\n",
    "users = joinedData.select(als.getUserCol()).distinct()\n",
    "userSubsetRecs = model.recommendForUserSubset(users, 10)\n",
    "\n",
    "# Generate top 10 user recommendations for a specified set of movies\n",
    "#movies = joinedData.select(als.getItemCol()).distinct().limit(3)\n",
    "#movieSubSetRecs = model.recommendForItemSubset(movies, 10)"
   ]
  },
  {
   "cell_type": "markdown",
   "metadata": {},
   "source": [
    "<b>Get recommendations for specific users</b>"
   ]
  },
  {
   "cell_type": "code",
   "execution_count": 33,
   "metadata": {},
   "outputs": [
    {
     "name": "stdout",
     "output_type": "stream",
     "text": [
      "+------+------------------------------------------------------------------------------------------------------------------------------------------------------------------------------------------+\n",
      "|userId|recommendations                                                                                                                                                                           |\n",
      "+------+------------------------------------------------------------------------------------------------------------------------------------------------------------------------------------------+\n",
      "|127   |[[95182, 10.242892], [4056, 8.484064], [6881, 8.097054], [83349, 8.088048], [2130, 8.01723], [2186, 7.9534407], [3675, 7.9384527], [1187, 7.9366918], [49274, 7.8469305], [194, 7.826082]]|\n",
      "+------+------------------------------------------------------------------------------------------------------------------------------------------------------------------------------------------+\n",
      "\n",
      "+------+---------------------------------------------------------------------------------------------------------------------------------------------------------------------------------------+\n",
      "|userId|recommendations                                                                                                                                                                        |\n",
      "+------+---------------------------------------------------------------------------------------------------------------------------------------------------------------------------------------+\n",
      "|151   |[[3358, 7.521437], [84944, 7.273247], [542, 7.0324216], [3265, 6.880025], [7481, 6.7404966], [322, 6.625291], [1173, 6.4174333], [1218, 6.332108], [1734, 6.2746263], [5013, 6.262485]]|\n",
      "+------+---------------------------------------------------------------------------------------------------------------------------------------------------------------------------------------+\n",
      "\n",
      "+------+---------------------------------------------------------------------------------------------------------------------------------------------------------------------------------------------+\n",
      "|userId|recommendations                                                                                                                                                                              |\n",
      "+------+---------------------------------------------------------------------------------------------------------------------------------------------------------------------------------------------+\n",
      "|300   |[[134368, 7.318864], [7318, 7.1526914], [80693, 6.9937716], [5075, 6.991078], [47122, 6.9728265], [5785, 6.8409977], [6548, 6.7134037], [1734, 6.587681], [671, 6.5564523], [3156, 6.555396]]|\n",
      "+------+---------------------------------------------------------------------------------------------------------------------------------------------------------------------------------------------+\n",
      "\n"
     ]
    }
   ],
   "source": [
    "# userId 127\n",
    "recommendations_127 = userSubsetRecs.filter(userSubsetRecs.userId == 127)\n",
    "recommendations_127.show(truncate=False)\n",
    "\n",
    "# userId 151\n",
    "recommendations_151 = userSubsetRecs.filter(userSubsetRecs.userId == 151)\n",
    "recommendations_151.show(truncate=False)\n",
    "\n",
    "# userId 300\n",
    "recommendations_300 = userSubsetRecs.filter(userSubsetRecs.userId == 300)\n",
    "recommendations_300.show(truncate=False)"
   ]
  }
 ],
 "metadata": {
  "kernelspec": {
   "display_name": "Python 3",
   "language": "python",
   "name": "python3"
  },
  "language_info": {
   "codemirror_mode": {
    "name": "ipython",
    "version": 3
   },
   "file_extension": ".py",
   "mimetype": "text/x-python",
   "name": "python",
   "nbconvert_exporter": "python",
   "pygments_lexer": "ipython3",
   "version": "3.7.5"
  }
 },
 "nbformat": 4,
 "nbformat_minor": 2
}
